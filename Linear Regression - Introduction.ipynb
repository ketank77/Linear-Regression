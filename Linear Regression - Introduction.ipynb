{
 "cells": [
  {
   "cell_type": "markdown",
   "metadata": {},
   "source": [
    "# Simple Linear Regression"
   ]
  },
  {
   "cell_type": "markdown",
   "metadata": {},
   "source": [
    "For Simple Linear Regression, there is one independent variable which is used to predict the dependent variable."
   ]
  },
  {
   "cell_type": "code",
   "execution_count": 26,
   "metadata": {},
   "outputs": [],
   "source": [
    "#importing the libraries\n",
    "import numpy as np #numerical python\n",
    "import pandas as pd #python dataframe\n",
    "import scipy.stats as sc # scientific python\n",
    "import statsmodels.api as sm\n",
    "import matplotlib.pyplot as plt"
   ]
  },
  {
   "cell_type": "markdown",
   "metadata": {},
   "source": [
    "### In this problem, we are trying to predict the Revenue of a Hotel when we know how much the Hotel is occupied."
   ]
  },
  {
   "cell_type": "code",
   "execution_count": 2,
   "metadata": {},
   "outputs": [
    {
     "data": {
      "text/html": [
       "<div>\n",
       "<style scoped>\n",
       "    .dataframe tbody tr th:only-of-type {\n",
       "        vertical-align: middle;\n",
       "    }\n",
       "\n",
       "    .dataframe tbody tr th {\n",
       "        vertical-align: top;\n",
       "    }\n",
       "\n",
       "    .dataframe thead th {\n",
       "        text-align: right;\n",
       "    }\n",
       "</style>\n",
       "<table border=\"1\" class=\"dataframe\">\n",
       "  <thead>\n",
       "    <tr style=\"text-align: right;\">\n",
       "      <th></th>\n",
       "      <th>PercentOccupancy</th>\n",
       "      <th>Revenueindollar1000</th>\n",
       "    </tr>\n",
       "  </thead>\n",
       "  <tbody>\n",
       "    <tr>\n",
       "      <th>0</th>\n",
       "      <td>65.7</td>\n",
       "      <td>514.44</td>\n",
       "    </tr>\n",
       "    <tr>\n",
       "      <th>1</th>\n",
       "      <td>61.1</td>\n",
       "      <td>463.12</td>\n",
       "    </tr>\n",
       "    <tr>\n",
       "      <th>2</th>\n",
       "      <td>78.2</td>\n",
       "      <td>598.18</td>\n",
       "    </tr>\n",
       "    <tr>\n",
       "      <th>3</th>\n",
       "      <td>65.4</td>\n",
       "      <td>454.92</td>\n",
       "    </tr>\n",
       "    <tr>\n",
       "      <th>4</th>\n",
       "      <td>63.5</td>\n",
       "      <td>453.80</td>\n",
       "    </tr>\n",
       "  </tbody>\n",
       "</table>\n",
       "</div>"
      ],
      "text/plain": [
       "   PercentOccupancy  Revenueindollar1000\n",
       "0              65.7               514.44\n",
       "1              61.1               463.12\n",
       "2              78.2               598.18\n",
       "3              65.4               454.92\n",
       "4              63.5               453.80"
      ]
     },
     "execution_count": 2,
     "metadata": {},
     "output_type": "execute_result"
    }
   ],
   "source": [
    "df = pd.read_csv('Hotel.csv')\n",
    "df.head()"
   ]
  },
  {
   "cell_type": "markdown",
   "metadata": {},
   "source": [
    "The $\\textbf{Simple Linear Regression}$ is:"
   ]
  },
  {
   "cell_type": "markdown",
   "metadata": {},
   "source": [
    "#### Revenueindollar1000 = $\\beta_0$ +$\\beta_1$* PercentOccupancy \n",
    "\n",
    "where $\\beta_0$ and $\\beta_1$ are the co-efficients"
   ]
  },
  {
   "cell_type": "markdown",
   "metadata": {},
   "source": [
    "Before building the regression, let us see the scatterplot between the independent and dependent varaibles."
   ]
  },
  {
   "cell_type": "code",
   "execution_count": 28,
   "metadata": {},
   "outputs": [
    {
     "data": {
      "text/plain": [
       "<matplotlib.collections.PathCollection at 0x1d91567e6d8>"
      ]
     },
     "execution_count": 28,
     "metadata": {},
     "output_type": "execute_result"
    },
    {
     "data": {
      "image/png": "[encoded data removed]",
      "text/plain": [
       "<Figure size 432x288 with 1 Axes>"
      ]
     },
     "metadata": {
      "needs_background": "light"
     },
     "output_type": "display_data"
    }
   ],
   "source": [
    "plt.scatter(df['PercentOccupancy'],df['Revenueindollar1000'])"
   ]
  },
  {
   "cell_type": "markdown",
   "metadata": {},
   "source": [
    "From the above plot, we can see that there is some sort of linear relationship between the dependent and the independent variable."
   ]
  },
  {
   "cell_type": "markdown",
   "metadata": {},
   "source": [
    "Now, let us check the Pearson's Correlation Co-efficient."
   ]
  },
  {
   "cell_type": "markdown",
   "metadata": {},
   "source": [
    "Pearson's Correlation Co-efficient"
   ]
  },
  {
   "cell_type": "code",
   "execution_count": 12,
   "metadata": {},
   "outputs": [
    {
     "data": {
      "text/html": [
       "<div>\n",
       "<style scoped>\n",
       "    .dataframe tbody tr th:only-of-type {\n",
       "        vertical-align: middle;\n",
       "    }\n",
       "\n",
       "    .dataframe tbody tr th {\n",
       "        vertical-align: top;\n",
       "    }\n",
       "\n",
       "    .dataframe thead th {\n",
       "        text-align: right;\n",
       "    }\n",
       "</style>\n",
       "<table border=\"1\" class=\"dataframe\">\n",
       "  <thead>\n",
       "    <tr style=\"text-align: right;\">\n",
       "      <th></th>\n",
       "      <th>PercentOccupancy</th>\n",
       "      <th>Revenueindollar1000</th>\n",
       "    </tr>\n",
       "  </thead>\n",
       "  <tbody>\n",
       "    <tr>\n",
       "      <th>PercentOccupancy</th>\n",
       "      <td>1.000000</td>\n",
       "      <td>0.958061</td>\n",
       "    </tr>\n",
       "    <tr>\n",
       "      <th>Revenueindollar1000</th>\n",
       "      <td>0.958061</td>\n",
       "      <td>1.000000</td>\n",
       "    </tr>\n",
       "  </tbody>\n",
       "</table>\n",
       "</div>"
      ],
      "text/plain": [
       "                     PercentOccupancy  Revenueindollar1000\n",
       "PercentOccupancy             1.000000             0.958061\n",
       "Revenueindollar1000          0.958061             1.000000"
      ]
     },
     "execution_count": 12,
     "metadata": {},
     "output_type": "execute_result"
    }
   ],
   "source": [
    "df.corr()"
   ]
  },
  {
   "cell_type": "markdown",
   "metadata": {},
   "source": [
    "The Pearson's Correlation Co-efficient tells us that the variables indeed have a very strong linear relationship between them."
   ]
  },
  {
   "cell_type": "markdown",
   "metadata": {},
   "source": [
    "Now, let us go ahead and build the regression model. "
   ]
  },
  {
   "cell_type": "markdown",
   "metadata": {},
   "source": [
    "First, let us create two separate variables with the values of the dependent and the independent variables."
   ]
  },
  {
   "cell_type": "code",
   "execution_count": 17,
   "metadata": {},
   "outputs": [],
   "source": [
    "X=df['PercentOccupancy']\n",
    "Y=df['Revenueindollar1000']"
   ]
  },
  {
   "cell_type": "code",
   "execution_count": 18,
   "metadata": {},
   "outputs": [
    {
     "name": "stdout",
     "output_type": "stream",
     "text": [
      "0    65.7\n",
      "1    61.1\n",
      "2    78.2\n",
      "3    65.4\n",
      "4    63.5\n",
      "Name: PercentOccupancy, dtype: float64\n",
      "--------------------\n",
      "0    514.44\n",
      "1    463.12\n",
      "2    598.18\n",
      "3    454.92\n",
      "4    453.80\n",
      "Name: Revenueindollar1000, dtype: float64\n"
     ]
    }
   ],
   "source": [
    "print(X.head())\n",
    "print('--------------------')\n",
    "print(Y.head())"
   ]
  },
  {
   "cell_type": "code",
   "execution_count": 19,
   "metadata": {},
   "outputs": [
    {
     "data": {
      "text/html": [
       "<div>\n",
       "<style scoped>\n",
       "    .dataframe tbody tr th:only-of-type {\n",
       "        vertical-align: middle;\n",
       "    }\n",
       "\n",
       "    .dataframe tbody tr th {\n",
       "        vertical-align: top;\n",
       "    }\n",
       "\n",
       "    .dataframe thead th {\n",
       "        text-align: right;\n",
       "    }\n",
       "</style>\n",
       "<table border=\"1\" class=\"dataframe\">\n",
       "  <thead>\n",
       "    <tr style=\"text-align: right;\">\n",
       "      <th></th>\n",
       "      <th>const</th>\n",
       "      <th>PercentOccupancy</th>\n",
       "    </tr>\n",
       "  </thead>\n",
       "  <tbody>\n",
       "    <tr>\n",
       "      <th>0</th>\n",
       "      <td>1.0</td>\n",
       "      <td>65.7</td>\n",
       "    </tr>\n",
       "    <tr>\n",
       "      <th>1</th>\n",
       "      <td>1.0</td>\n",
       "      <td>61.1</td>\n",
       "    </tr>\n",
       "    <tr>\n",
       "      <th>2</th>\n",
       "      <td>1.0</td>\n",
       "      <td>78.2</td>\n",
       "    </tr>\n",
       "    <tr>\n",
       "      <th>3</th>\n",
       "      <td>1.0</td>\n",
       "      <td>65.4</td>\n",
       "    </tr>\n",
       "    <tr>\n",
       "      <th>4</th>\n",
       "      <td>1.0</td>\n",
       "      <td>63.5</td>\n",
       "    </tr>\n",
       "  </tbody>\n",
       "</table>\n",
       "</div>"
      ],
      "text/plain": [
       "   const  PercentOccupancy\n",
       "0    1.0              65.7\n",
       "1    1.0              61.1\n",
       "2    1.0              78.2\n",
       "3    1.0              65.4\n",
       "4    1.0              63.5"
      ]
     },
     "execution_count": 19,
     "metadata": {},
     "output_type": "execute_result"
    }
   ],
   "source": [
    "# This adds the constant term beta0 to the Simple Linear Regression.\n",
    "\n",
    "X=sm.add_constant(X)\n",
    "X.head()"
   ]
  },
  {
   "cell_type": "markdown",
   "metadata": {},
   "source": [
    "Now, using the statsmodels libray we are going to build the regression model and check the various statistical parameters."
   ]
  },
  {
   "cell_type": "code",
   "execution_count": 20,
   "metadata": {},
   "outputs": [
    {
     "name": "stderr",
     "output_type": "stream",
     "text": [
      "C:\\Users\\gurubagi\\Anaconda3\\lib\\site-packages\\scipy\\stats\\stats.py:1394: UserWarning: kurtosistest only valid for n>=20 ... continuing anyway, n=12\n",
      "  \"anyway, n=%i\" % int(n))\n"
     ]
    },
    {
     "data": {
      "text/html": [
       "<table class=\"simpletable\">\n",
       "<caption>OLS Regression Results</caption>\n",
       "<tr>\n",
       "  <th>Dep. Variable:</th>    <td>Revenueindollar1000</td> <th>  R-squared:         </th> <td>   0.918</td>\n",
       "</tr>\n",
       "<tr>\n",
       "  <th>Model:</th>                    <td>OLS</td>         <th>  Adj. R-squared:    </th> <td>   0.910</td>\n",
       "</tr>\n",
       "<tr>\n",
       "  <th>Method:</th>              <td>Least Squares</td>    <th>  F-statistic:       </th> <td>   111.8</td>\n",
       "</tr>\n",
       "<tr>\n",
       "  <th>Date:</th>              <td>Sun, 16 Feb 2020</td>   <th>  Prob (F-statistic):</th> <td>9.52e-07</td>\n",
       "</tr>\n",
       "<tr>\n",
       "  <th>Time:</th>                  <td>06:19:11</td>       <th>  Log-Likelihood:    </th> <td> -53.252</td>\n",
       "</tr>\n",
       "<tr>\n",
       "  <th>No. Observations:</th>       <td>    12</td>        <th>  AIC:               </th> <td>   110.5</td>\n",
       "</tr>\n",
       "<tr>\n",
       "  <th>Df Residuals:</th>           <td>    10</td>        <th>  BIC:               </th> <td>   111.5</td>\n",
       "</tr>\n",
       "<tr>\n",
       "  <th>Df Model:</th>               <td>     1</td>        <th>                     </th>     <td> </td>   \n",
       "</tr>\n",
       "<tr>\n",
       "  <th>Covariance Type:</th>       <td>nonrobust</td>      <th>                     </th>     <td> </td>   \n",
       "</tr>\n",
       "</table>\n",
       "<table class=\"simpletable\">\n",
       "<tr>\n",
       "          <td></td>            <th>coef</th>     <th>std err</th>      <th>t</th>      <th>P>|t|</th>  <th>[0.025</th>    <th>0.975]</th>  \n",
       "</tr>\n",
       "<tr>\n",
       "  <th>const</th>            <td>  -60.3747</td> <td>   54.100</td> <td>   -1.116</td> <td> 0.291</td> <td> -180.916</td> <td>   60.167</td>\n",
       "</tr>\n",
       "<tr>\n",
       "  <th>PercentOccupancy</th> <td>    8.2317</td> <td>    0.779</td> <td>   10.572</td> <td> 0.000</td> <td>    6.497</td> <td>    9.967</td>\n",
       "</tr>\n",
       "</table>\n",
       "<table class=\"simpletable\">\n",
       "<tr>\n",
       "  <th>Omnibus:</th>       <td> 1.318</td> <th>  Durbin-Watson:     </th> <td>   1.482</td>\n",
       "</tr>\n",
       "<tr>\n",
       "  <th>Prob(Omnibus):</th> <td> 0.517</td> <th>  Jarque-Bera (JB):  </th> <td>   0.765</td>\n",
       "</tr>\n",
       "<tr>\n",
       "  <th>Skew:</th>          <td>-0.140</td> <th>  Prob(JB):          </th> <td>   0.682</td>\n",
       "</tr>\n",
       "<tr>\n",
       "  <th>Kurtosis:</th>      <td> 1.795</td> <th>  Cond. No.          </th> <td>    581.</td>\n",
       "</tr>\n",
       "</table><br/><br/>Warnings:<br/>[1] Standard Errors assume that the covariance matrix of the errors is correctly specified."
      ],
      "text/plain": [
       "<class 'statsmodels.iolib.summary.Summary'>\n",
       "\"\"\"\n",
       "                             OLS Regression Results                            \n",
       "===============================================================================\n",
       "Dep. Variable:     Revenueindollar1000   R-squared:                       0.918\n",
       "Model:                             OLS   Adj. R-squared:                  0.910\n",
       "Method:                  Least Squares   F-statistic:                     111.8\n",
       "Date:                 Sun, 16 Feb 2020   Prob (F-statistic):           9.52e-07\n",
       "Time:                         06:19:11   Log-Likelihood:                -53.252\n",
       "No. Observations:                   12   AIC:                             110.5\n",
       "Df Residuals:                       10   BIC:                             111.5\n",
       "Df Model:                            1                                         \n",
       "Covariance Type:             nonrobust                                         \n",
       "====================================================================================\n",
       "                       coef    std err          t      P>|t|      [0.025      0.975]\n",
       "------------------------------------------------------------------------------------\n",
       "const              -60.3747     54.100     -1.116      0.291    -180.916      60.167\n",
       "PercentOccupancy     8.2317      0.779     10.572      0.000       6.497       9.967\n",
       "==============================================================================\n",
       "Omnibus:                        1.318   Durbin-Watson:                   1.482\n",
       "Prob(Omnibus):                  0.517   Jarque-Bera (JB):                0.765\n",
       "Skew:                          -0.140   Prob(JB):                        0.682\n",
       "Kurtosis:                       1.795   Cond. No.                         581.\n",
       "==============================================================================\n",
       "\n",
       "Warnings:\n",
       "[1] Standard Errors assume that the covariance matrix of the errors is correctly specified.\n",
       "\"\"\""
      ]
     },
     "execution_count": 20,
     "metadata": {},
     "output_type": "execute_result"
    }
   ],
   "source": [
    "model = sm.OLS(Y,X).fit()\n",
    "model.summary()"
   ]
  },
  {
   "cell_type": "markdown",
   "metadata": {},
   "source": [
    "The $\\textbf{Simple Linear Regression}$ is:"
   ]
  },
  {
   "cell_type": "markdown",
   "metadata": {},
   "source": [
    "#### Revenueindollar1000 = -60.3747 + 8.2317* PercentOccupancy \n"
   ]
  },
  {
   "cell_type": "markdown",
   "metadata": {},
   "source": [
    "Here, we notice that the p-value is very less which is in line with our algorithm. When we are using only variable for predicting, that particular variable has to be the most significant."
   ]
  },
  {
   "cell_type": "code",
   "execution_count": 22,
   "metadata": {},
   "outputs": [
    {
     "name": "stdout",
     "output_type": "stream",
     "text": [
      "The variation in the dependent variable which is explained by the independent variable is \n",
      " 91.78813570805701 %\n"
     ]
    }
   ],
   "source": [
    "print('The variation in the dependent variable which is explained by the independent variable is','\\n',\n",
    "      model.rsquared*100,'%')"
   ]
  },
  {
   "cell_type": "markdown",
   "metadata": {},
   "source": [
    "Now, let us go ahead and predict the independent variable using the model we have built."
   ]
  },
  {
   "cell_type": "code",
   "execution_count": 23,
   "metadata": {},
   "outputs": [
    {
     "name": "stdout",
     "output_type": "stream",
     "text": [
      "0     480.450779\n",
      "1     442.584764\n",
      "2     583.347559\n",
      "3     477.981256\n",
      "4     462.340946\n",
      "5     520.786317\n",
      "6     608.042787\n",
      "7     532.310756\n",
      "8     539.719325\n",
      "9     612.158658\n",
      "10    450.816506\n",
      "11    379.200347\n",
      "dtype: float64\n"
     ]
    }
   ],
   "source": [
    "ypred = model.predict(X)\n",
    "print(ypred)"
   ]
  },
  {
   "cell_type": "markdown",
   "metadata": {},
   "source": [
    "After prediction, let us plot a graph to understand how good our model is and compare our model with the original values of the dependent variable."
   ]
  },
  {
   "cell_type": "code",
   "execution_count": 29,
   "metadata": {},
   "outputs": [
    {
     "data": {
      "text/plain": [
       "<matplotlib.collections.PathCollection at 0x1d91570e9b0>"
      ]
     },
     "execution_count": 29,
     "metadata": {},
     "output_type": "execute_result"
    },
    {
     "data": {
      "image/png": "[encoded data removed]",
      "text/plain": [
       "<Figure size 432x288 with 1 Axes>"
      ]
     },
     "metadata": {
      "needs_background": "light"
     },
     "output_type": "display_data"
    }
   ],
   "source": [
    "plt.scatter(df['PercentOccupancy'],df['Revenueindollar1000'])\n",
    "plt.scatter(df['PercentOccupancy'],ypred)"
   ]
  },
  {
   "cell_type": "markdown",
   "metadata": {},
   "source": [
    "Let us add the predicted values as a column to our original dataset."
   ]
  },
  {
   "cell_type": "code",
   "execution_count": 30,
   "metadata": {},
   "outputs": [
    {
     "data": {
      "text/html": [
       "<div>\n",
       "<style scoped>\n",
       "    .dataframe tbody tr th:only-of-type {\n",
       "        vertical-align: middle;\n",
       "    }\n",
       "\n",
       "    .dataframe tbody tr th {\n",
       "        vertical-align: top;\n",
       "    }\n",
       "\n",
       "    .dataframe thead th {\n",
       "        text-align: right;\n",
       "    }\n",
       "</style>\n",
       "<table border=\"1\" class=\"dataframe\">\n",
       "  <thead>\n",
       "    <tr style=\"text-align: right;\">\n",
       "      <th></th>\n",
       "      <th>PercentOccupancy</th>\n",
       "      <th>Revenueindollar1000</th>\n",
       "      <th>Prediction</th>\n",
       "    </tr>\n",
       "  </thead>\n",
       "  <tbody>\n",
       "    <tr>\n",
       "      <th>0</th>\n",
       "      <td>65.7</td>\n",
       "      <td>514.44</td>\n",
       "      <td>480.450779</td>\n",
       "    </tr>\n",
       "    <tr>\n",
       "      <th>1</th>\n",
       "      <td>61.1</td>\n",
       "      <td>463.12</td>\n",
       "      <td>442.584764</td>\n",
       "    </tr>\n",
       "    <tr>\n",
       "      <th>2</th>\n",
       "      <td>78.2</td>\n",
       "      <td>598.18</td>\n",
       "      <td>583.347559</td>\n",
       "    </tr>\n",
       "    <tr>\n",
       "      <th>3</th>\n",
       "      <td>65.4</td>\n",
       "      <td>454.92</td>\n",
       "      <td>477.981256</td>\n",
       "    </tr>\n",
       "    <tr>\n",
       "      <th>4</th>\n",
       "      <td>63.5</td>\n",
       "      <td>453.80</td>\n",
       "      <td>462.340946</td>\n",
       "    </tr>\n",
       "  </tbody>\n",
       "</table>\n",
       "</div>"
      ],
      "text/plain": [
       "   PercentOccupancy  Revenueindollar1000  Prediction\n",
       "0              65.7               514.44  480.450779\n",
       "1              61.1               463.12  442.584764\n",
       "2              78.2               598.18  583.347559\n",
       "3              65.4               454.92  477.981256\n",
       "4              63.5               453.80  462.340946"
      ]
     },
     "execution_count": 30,
     "metadata": {},
     "output_type": "execute_result"
    }
   ],
   "source": [
    "df['Prediction'] = ypred\n",
    "df.head()"
   ]
  },
  {
   "cell_type": "code",
   "execution_count": 31,
   "metadata": {},
   "outputs": [
    {
     "data": {
      "text/html": [
       "<div>\n",
       "<style scoped>\n",
       "    .dataframe tbody tr th:only-of-type {\n",
       "        vertical-align: middle;\n",
       "    }\n",
       "\n",
       "    .dataframe tbody tr th {\n",
       "        vertical-align: top;\n",
       "    }\n",
       "\n",
       "    .dataframe thead th {\n",
       "        text-align: right;\n",
       "    }\n",
       "</style>\n",
       "<table border=\"1\" class=\"dataframe\">\n",
       "  <thead>\n",
       "    <tr style=\"text-align: right;\">\n",
       "      <th></th>\n",
       "      <th>PercentOccupancy</th>\n",
       "      <th>Revenueindollar1000</th>\n",
       "      <th>Prediction</th>\n",
       "    </tr>\n",
       "  </thead>\n",
       "  <tbody>\n",
       "    <tr>\n",
       "      <th>PercentOccupancy</th>\n",
       "      <td>1.000000</td>\n",
       "      <td>0.958061</td>\n",
       "      <td>1.000000</td>\n",
       "    </tr>\n",
       "    <tr>\n",
       "      <th>Revenueindollar1000</th>\n",
       "      <td>0.958061</td>\n",
       "      <td>1.000000</td>\n",
       "      <td>0.958061</td>\n",
       "    </tr>\n",
       "    <tr>\n",
       "      <th>Prediction</th>\n",
       "      <td>1.000000</td>\n",
       "      <td>0.958061</td>\n",
       "      <td>1.000000</td>\n",
       "    </tr>\n",
       "  </tbody>\n",
       "</table>\n",
       "</div>"
      ],
      "text/plain": [
       "                     PercentOccupancy  Revenueindollar1000  Prediction\n",
       "PercentOccupancy             1.000000             0.958061    1.000000\n",
       "Revenueindollar1000          0.958061             1.000000    0.958061\n",
       "Prediction                   1.000000             0.958061    1.000000"
      ]
     },
     "execution_count": 31,
     "metadata": {},
     "output_type": "execute_result"
    }
   ],
   "source": [
    "df.corr()"
   ]
  },
  {
   "cell_type": "code",
   "execution_count": 32,
   "metadata": {},
   "outputs": [
    {
     "data": {
      "text/plain": [
       "0.9178808797210001"
      ]
     },
     "execution_count": 32,
     "metadata": {},
     "output_type": "execute_result"
    }
   ],
   "source": [
    "#Computing Rsquared using the predicted and actual Target columns\n",
    "\n",
    "0.958061**2"
   ]
  },
  {
   "cell_type": "markdown",
   "metadata": {},
   "source": [
    "Let us see the difference in the predicted values and the original given values."
   ]
  },
  {
   "cell_type": "code",
   "execution_count": 23,
   "metadata": {},
   "outputs": [
    {
     "data": {
      "text/plain": [
       "0     33.989221\n",
       "1     20.535236\n",
       "2     14.832441\n",
       "3    -23.061256\n",
       "4     -8.540946\n",
       "5    -18.556317\n",
       "6     18.217213\n",
       "7    -33.610756\n",
       "8    -25.259325\n",
       "9     11.131342\n",
       "10     3.953494\n",
       "11     6.369653\n",
       "dtype: float64"
      ]
     },
     "execution_count": 23,
     "metadata": {},
     "output_type": "execute_result"
    }
   ],
   "source": [
    "#Residuals in the prediction\n",
    "\n",
    "df['Revenueindollar1000'] - df['Prediction']"
   ]
  },
  {
   "cell_type": "markdown",
   "metadata": {},
   "source": [
    "Here, we see that the actual values and the predicted values are quite close."
   ]
  },
  {
   "cell_type": "code",
   "execution_count": null,
   "metadata": {},
   "outputs": [],
   "source": []
  }
 ],
 "metadata": {
  "kernelspec": {
   "display_name": "Python 3",
   "language": "python",
   "name": "python3"
  },
  "language_info": {
   "codemirror_mode": {
    "name": "ipython",
    "version": 3
   },
   "file_extension": ".py",
   "mimetype": "text/x-python",
   "name": "python",
   "nbconvert_exporter": "python",
   "pygments_lexer": "ipython3",
   "version": "3.7.4"
  }
 },
 "nbformat": 4,
 "nbformat_minor": 2
}
